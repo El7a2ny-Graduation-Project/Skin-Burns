{
 "cells": [
  {
   "cell_type": "code",
   "execution_count": 1,
   "metadata": {},
   "outputs": [],
   "source": [
    "import cv2\n",
    "import os\n",
    "\n",
    "def crop_burn_region(image_path, label_path, output_folder):\n",
    "    # Read image and get dimensions\n",
    "    image = cv2.imread(image_path)\n",
    "    if image is None:\n",
    "        print(\"Image not found:\", image_path)\n",
    "        return\n",
    "    h, w = image.shape[:2]\n",
    "\n",
    "    # Open label file and read bounding boxes\n",
    "    with open(label_path, 'r') as file:\n",
    "        lines = file.readlines()\n",
    "    \n",
    "    # Process each bounding box\n",
    "    for i, line in enumerate(lines):\n",
    "        parts = line.strip().split()\n",
    "        if len(parts) != 5:\n",
    "            continue  # Skip malformed lines\n",
    "        # The first value is the burn degree (class), followed by normalized coordinates\n",
    "        burn_degree, x_center_norm, y_center_norm, width_norm, height_norm = map(float, parts)\n",
    "        \n",
    "        # Convert normalized values to pixel coordinates\n",
    "        x_center = x_center_norm * w\n",
    "        y_center = y_center_norm * h\n",
    "        box_width = width_norm * w\n",
    "        box_height = height_norm * h\n",
    "        \n",
    "        # Calculate bounding box corners\n",
    "        x_min = int(max(x_center - box_width / 2, 0))\n",
    "        y_min = int(max(y_center - box_height / 2, 0))\n",
    "        x_max = int(min(x_center + box_width / 2, w))\n",
    "        y_max = int(min(y_center + box_height / 2, h))\n",
    "        \n",
    "        # Crop the burn region\n",
    "        crop = image[y_min:y_max, x_min:x_max]\n",
    "        \n",
    "        # Create output filename including the burn degree\n",
    "        base_name = os.path.basename(image_path)\n",
    "        name, ext = os.path.splitext(base_name)\n",
    "        degree = int(burn_degree)  # Convert burn degree to an integer\n",
    "        output_filename = f\"{name}_degree_{degree}_crop_{i}{ext}\"\n",
    "        output_path = os.path.join(output_folder, output_filename)\n",
    "        \n",
    "        # Save the cropped image\n",
    "        cv2.imwrite(output_path, crop)\n",
    "        print(\"Saved cropped image:\", output_path)\n",
    "\n",
    "# Example usage:\n",
    "image_file = \"path/to/your/image.jpg\"\n",
    "label_file = \"path/to/your/image.txt\"\n",
    "output_dir = \"path/to/output/folder\"\n",
    "#crop_burn_region(image_file, label_file, output_dir)\n"
   ]
  }
 ],
 "metadata": {
  "kernelspec": {
   "display_name": "Python 3",
   "language": "python",
   "name": "python3"
  },
  "language_info": {
   "codemirror_mode": {
    "name": "ipython",
    "version": 3
   },
   "file_extension": ".py",
   "mimetype": "text/x-python",
   "name": "python",
   "nbconvert_exporter": "python",
   "pygments_lexer": "ipython3",
   "version": "3.12.9"
  }
 },
 "nbformat": 4,
 "nbformat_minor": 2
}
